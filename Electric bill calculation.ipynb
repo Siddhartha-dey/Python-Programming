{
 "cells": [
  {
   "cell_type": "code",
   "execution_count": 30,
   "id": "97bcc60a",
   "metadata": {},
   "outputs": [
    {
     "name": "stdout",
     "output_type": "stream",
     "text": [
      "Name: Binay Biswas\n",
      "Customer ID: 1574269101\n",
      "Account Name: B.Binay\n",
      "Units Consumed: 175\n"
     ]
    }
   ],
   "source": [
    "Name = input(\"Name: \")\n",
    "Customer_ID = input(\"Customer ID: \")\n",
    "Account_Name = input(\"Account Name: \")\n",
    "Units_Consumed = int(input(\"Units Consumed: \"))"
   ]
  },
  {
   "cell_type": "code",
   "execution_count": 50,
   "id": "413497bf",
   "metadata": {},
   "outputs": [
    {
     "name": "stdout",
     "output_type": "stream",
     "text": [
      "Name                Customer ID         Account Name        Units Consumed      Amount Chargeable\n",
      "Binay Biswas        1574269101          B.Binay             175                 2300\n"
     ]
    }
   ],
   "source": [
    "if Units_Consumed <= 100:\n",
    "    Amount_Chargeable = Units_Consumed * 10\n",
    "elif Units_Consumed <= 150:\n",
    "    Amount_Chargeable = (100*10) + (Units_Consumed - 100) * 15\n",
    "elif Units_Consumed <= 200:\n",
    "    Amount_Chargeable = (100*10) + (50*15) + (Units_Consumed - 150) * 22\n",
    "else:\n",
    "    Amount_Chargeable = (100*10) + (50*15) + (50*22) + (Units_Consumed - 200) * 30\n",
    "\n",
    "print(\"{:<20}{:<20}{:<20}{:<20}{}\".format('Name','Customer ID','Account Name','Units Consumed','Amount Chargeable'))\n",
    "print(\"{:<20}{:<20}{:<20}{:<20}{}\".format(Name,Customer_ID,Account_Name,Units_Consumed,Amount_Chargeable))"
   ]
  },
  {
   "cell_type": "code",
   "execution_count": null,
   "id": "aa139a03",
   "metadata": {},
   "outputs": [],
   "source": []
  }
 ],
 "metadata": {
  "kernelspec": {
   "display_name": "Python 3 (ipykernel)",
   "language": "python",
   "name": "python3"
  },
  "language_info": {
   "codemirror_mode": {
    "name": "ipython",
    "version": 3
   },
   "file_extension": ".py",
   "mimetype": "text/x-python",
   "name": "python",
   "nbconvert_exporter": "python",
   "pygments_lexer": "ipython3",
   "version": "3.9.7"
  }
 },
 "nbformat": 4,
 "nbformat_minor": 5
}
