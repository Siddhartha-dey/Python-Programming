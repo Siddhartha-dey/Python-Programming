{
 "cells": [
  {
   "cell_type": "code",
   "execution_count": 91,
   "id": "ca18823f",
   "metadata": {},
   "outputs": [
    {
     "name": "stdout",
     "output_type": "stream",
     "text": [
      "Enter start timestamp (in ‘dd-mm-yyyy hh:mm:ss’ format): 20-03-2022 20:15:36\n",
      "Enter end timestamp (in ‘dd-mm-yyyy hh:mm:ss’ format): 21-04-2022 02:14:37\n"
     ]
    }
   ],
   "source": [
    "start__=input(\"Enter start timestamp (in ‘dd-mm-yyyy hh:mm:ss’ format): \")\n",
    "end__=input(\"Enter end timestamp (in ‘dd-mm-yyyy hh:mm:ss’ format): \")"
   ]
  },
  {
   "cell_type": "code",
   "execution_count": 92,
   "id": "0bc81dea",
   "metadata": {},
   "outputs": [],
   "source": [
    "start_=start__.split(' ')\n",
    "end_=end__.split(' ')"
   ]
  },
  {
   "cell_type": "code",
   "execution_count": 93,
   "id": "80d3355f",
   "metadata": {},
   "outputs": [],
   "source": [
    "start_date=start_[0].split('-')\n",
    "start_date=[int(x) for x in start_date]\n",
    "\n",
    "start_time=start_[1].split(':')\n",
    "start_time=[int(x) for x in start_time]\n",
    "\n",
    "end_date=end_[0].split('-')\n",
    "end_date=[int(x) for x in end_date]\n",
    "\n",
    "end_time=end_[1].split(':')\n",
    "end_time=[int(x) for x in end_time]"
   ]
  },
  {
   "cell_type": "code",
   "execution_count": 94,
   "id": "59fb7399",
   "metadata": {},
   "outputs": [],
   "source": [
    "start={'day':start_date[0],'month':start_date[1],'year':start_date[2],'hour':start_time[0],'minute':start_time[1],'second':start_time[2]}\n",
    "end={'day':end_date[0],'month':end_date[1],'year':end_date[2],'hour':end_time[0],'minute':end_time[1],'second':end_time[2]}"
   ]
  },
  {
   "cell_type": "code",
   "execution_count": 95,
   "id": "a78c0e82",
   "metadata": {},
   "outputs": [],
   "source": [
    "# To store number of days in all months from January to December.\n",
    "month_days = [31, 28, 31, 30, 31, 30, 31, 31, 30, 31, 30, 31]"
   ]
  },
  {
   "cell_type": "code",
   "execution_count": 96,
   "id": "8557cf1e",
   "metadata": {},
   "outputs": [],
   "source": [
    "def countLeapYears(dt):\n",
    " \n",
    "    # Check if the current year needs to be considered for the count of leap years or not\n",
    "    if (dt['month'] <= 2):\n",
    "        dt['year'] -= 1\n",
    " \n",
    "    #An year is a leap year if it is divisible by 4, except for years divisible by 100, but not by 400\n",
    "    count=0\n",
    "    for x in range(1,dt['year']+1):\n",
    "        if x%4==0:\n",
    "            if x%100 != 0:\n",
    "                count += 1\n",
    "            else:\n",
    "                if x%400 == 0:\n",
    "                    count += 1\n",
    "    \n",
    "    return count"
   ]
  },
  {
   "cell_type": "code",
   "execution_count": 97,
   "id": "0f0c8220",
   "metadata": {},
   "outputs": [],
   "source": [
    "# This function returns number of days between two given dates\n",
    "def difference_of_days(dt1, dt2):\n",
    " \n",
    "    # COUNT TOTAL NUMBER OF DAYS BEFORE DATE 'dt1'\n",
    "    count_1 = dt1['year'] * 365 + dt1['day']        # Initialize count using years and day.\n",
    "    for i in range(0, dt1['month'] - 1):   # Add days for months.\n",
    "        count_1 += month_days[i]\n",
    "    count_1 += countLeapYears(dt1)       #Add an extra day for every leap year\n",
    " \n",
    "    # SIMILARLY, COUNT TOTAL NUMBER OF DAYS BEFORE 'dt2'\n",
    "    count_2 = dt2['year'] * 365 + dt2['day']\n",
    "    for i in range(0, dt2['month'] - 1):\n",
    "        count_2 += month_days[i]\n",
    "    count_2 += countLeapYears(dt2)\n",
    " \n",
    "    # Return difference between two counts\n",
    "    return (count_2 - count_1)\n"
   ]
  },
  {
   "cell_type": "code",
   "execution_count": 98,
   "id": "912701dd",
   "metadata": {},
   "outputs": [],
   "source": [
    "days_diff=difference_of_days(start,end)"
   ]
  },
  {
   "cell_type": "code",
   "execution_count": 99,
   "id": "c6e7d047",
   "metadata": {},
   "outputs": [],
   "source": [
    "# Count chargeable days and chargeable hours\n",
    "if end['hour'] >= start['hour']:\n",
    "    chargeable_days = days_diff\n",
    "    \n",
    "    if end['minute'] > start['minute']:\n",
    "        chargeable_hours = end['hour'] - start['hour'] + 1\n",
    "    elif end['minute'] < start['minute']:\n",
    "        chargeable_hours = end['hour'] - start['hour']\n",
    "    elif end['minute'] == start['minute']:\n",
    "        if end['second'] > start['second']:\n",
    "            chargeable_hours = end['hour'] - start['hour'] + 1\n",
    "        else:\n",
    "            chargeable_hours = end['hour'] - start['hour']\n",
    "else:\n",
    "    chargeable_days = days_diff - 1\n",
    "    \n",
    "    if end['minute'] > start['minute']:\n",
    "        chargeable_hours = 24 + end['hour'] - start['hour'] + 1\n",
    "    elif end['minute'] < start['minute']:\n",
    "        chargeable_hours = 24 + end['hour'] - start['hour']\n",
    "    elif end['minute'] == start['minute']:\n",
    "        if end['second'] > start['second']:\n",
    "            chargeable_hours = 24 + end['hour'] - start['hour'] + 1\n",
    "        else:\n",
    "            chargeable_hours = 24 + end['hour'] - start['hour']\n"
   ]
  },
  {
   "cell_type": "code",
   "execution_count": 100,
   "id": "096045e0",
   "metadata": {},
   "outputs": [
    {
     "name": "stdout",
     "output_type": "stream",
     "text": [
      "Chargeable amount: Rs 719\n"
     ]
    }
   ],
   "source": [
    "Chargeable_amount = (chargeable_days * 23) + ( chargeable_hours * 1)\n",
    "\n",
    "print(\"Chargeable amount: Rs\", Chargeable_amount)"
   ]
  },
  {
   "cell_type": "code",
   "execution_count": null,
   "id": "b653f756",
   "metadata": {},
   "outputs": [],
   "source": []
  }
 ],
 "metadata": {
  "kernelspec": {
   "display_name": "Python 3 (ipykernel)",
   "language": "python",
   "name": "python3"
  },
  "language_info": {
   "codemirror_mode": {
    "name": "ipython",
    "version": 3
   },
   "file_extension": ".py",
   "mimetype": "text/x-python",
   "name": "python",
   "nbconvert_exporter": "python",
   "pygments_lexer": "ipython3",
   "version": "3.9.7"
  }
 },
 "nbformat": 4,
 "nbformat_minor": 5
}
