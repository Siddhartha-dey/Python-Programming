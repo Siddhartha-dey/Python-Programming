{
 "cells": [
  {
   "cell_type": "code",
   "execution_count": 26,
   "id": "883eb543",
   "metadata": {},
   "outputs": [
    {
     "name": "stdout",
     "output_type": "stream",
     "text": [
      "N = 5\n",
      "Enter the 5 integers (separated by commas):\n",
      "56,17,59,64,83\n",
      "L = (56, 17, 59, 64, 83)\n"
     ]
    }
   ],
   "source": [
    "N=int(input(\"N = \"))    #Taking number of integers in the list\n",
    "print(\"Enter the {} integers (separated by commas):\".format(N))#As input pattern mentioned in question\n",
    "L=input().split(',')   #Spliting comma separated inputs\n",
    "L=tuple([int(x) for x in L])  #Converting string to integer \n",
    "                            #And then converting list to tuple as input pattern mentioned in question\n",
    "print(\"L =\",L)"
   ]
  },
  {
   "cell_type": "code",
   "execution_count": 28,
   "id": "68e749ae",
   "metadata": {},
   "outputs": [],
   "source": [
    "#function to check an integer is prime or not\n",
    "def isprime(e):\n",
    "    for i in range(2,e):\n",
    "        if e%i == 0:\n",
    "            return False\n",
    "    return True"
   ]
  },
  {
   "cell_type": "code",
   "execution_count": 29,
   "id": "9eeaf9ed",
   "metadata": {},
   "outputs": [
    {
     "name": "stdout",
     "output_type": "stream",
     "text": [
      "sum = 159\n"
     ]
    }
   ],
   "source": [
    "sum=0\n",
    "for ele in L:\n",
    "    if isprime(ele):\n",
    "        sum += ele\n",
    "        \n",
    "print(\"sum =\",sum)"
   ]
  },
  {
   "cell_type": "code",
   "execution_count": null,
   "id": "40512f23",
   "metadata": {},
   "outputs": [],
   "source": []
  }
 ],
 "metadata": {
  "kernelspec": {
   "display_name": "Python 3 (ipykernel)",
   "language": "python",
   "name": "python3"
  },
  "language_info": {
   "codemirror_mode": {
    "name": "ipython",
    "version": 3
   },
   "file_extension": ".py",
   "mimetype": "text/x-python",
   "name": "python",
   "nbconvert_exporter": "python",
   "pygments_lexer": "ipython3",
   "version": "3.9.7"
  }
 },
 "nbformat": 4,
 "nbformat_minor": 5
}
