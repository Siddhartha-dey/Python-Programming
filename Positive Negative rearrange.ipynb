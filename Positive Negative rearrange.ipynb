{
 "cells": [
  {
   "cell_type": "code",
   "execution_count": 37,
   "id": "8e2db39b",
   "metadata": {},
   "outputs": [
    {
     "name": "stdout",
     "output_type": "stream",
     "text": [
      "Enter the length of the array: 9\n",
      "45\n",
      "-56\n",
      "107\n",
      "224\n",
      "-71\n",
      "0\n",
      "-63\n",
      "66\n",
      "107\n",
      "[45, -56, 107, 224, -71, 0, -63, 66, 107]\n",
      "[45, 107, 224, 0, 66, 107, -56, -71, -63]\n"
     ]
    }
   ],
   "source": [
    "length=int(input(\"Enter the length of the array: \"))\n",
    "\n",
    "arr=[int(input()) for l in range(length)]\n",
    "print(arr)\n",
    "\n",
    "i=0\n",
    "j=0\n",
    "for j in range(len(arr)):\n",
    "    if arr[j] < 0:\n",
    "        j += 1\n",
    "    else:\n",
    "        for k in range(j,i,-1):\n",
    "            temp=arr[k-1]\n",
    "            arr[k-1]=arr[k]\n",
    "            arr[k]=temp\n",
    "        i += 1\n",
    "        j += 1\n",
    "\n",
    "print(arr)"
   ]
  },
  {
   "cell_type": "code",
   "execution_count": null,
   "id": "df7e0e40",
   "metadata": {},
   "outputs": [],
   "source": []
  }
 ],
 "metadata": {
  "kernelspec": {
   "display_name": "Python 3 (ipykernel)",
   "language": "python",
   "name": "python3"
  },
  "language_info": {
   "codemirror_mode": {
    "name": "ipython",
    "version": 3
   },
   "file_extension": ".py",
   "mimetype": "text/x-python",
   "name": "python",
   "nbconvert_exporter": "python",
   "pygments_lexer": "ipython3",
   "version": "3.9.7"
  }
 },
 "nbformat": 4,
 "nbformat_minor": 5
}
