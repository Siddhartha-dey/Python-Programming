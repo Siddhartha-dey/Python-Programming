{
 "cells": [
  {
   "cell_type": "code",
   "execution_count": 112,
   "id": "8c634bf5",
   "metadata": {},
   "outputs": [
    {
     "name": "stdout",
     "output_type": "stream",
     "text": [
      "Enter the elements of the 1D array separated by spaces:\n",
      "68 64 60 45 45 45 45 71 89\n"
     ]
    }
   ],
   "source": [
    "print(\"Enter the elements of the 1D array separated by spaces:\")\n",
    "input_ = input()\n",
    "\n",
    "L = input_.split(' ')\n",
    "\n",
    "L = [int(i) for i in L]"
   ]
  },
  {
   "cell_type": "code",
   "execution_count": 113,
   "id": "45e83d1a",
   "metadata": {},
   "outputs": [],
   "source": [
    "for i in range(len(L)-1):\n",
    "    if L[i] == L[i+1]:\n",
    "        index_1=i\n",
    "        break\n",
    "        \n",
    "for i in range(index_1,len(L)-1):\n",
    "    if L[i] != L[i+1]:\n",
    "        index_2=i\n",
    "        break\n",
    "        "
   ]
  },
  {
   "cell_type": "code",
   "execution_count": 114,
   "id": "441fb141",
   "metadata": {},
   "outputs": [],
   "source": [
    "L_1 = L[:index_1]\n",
    "L_2 = L[index_1:index_2+1]\n",
    "L_3 = L[index_2+1:]"
   ]
  },
  {
   "cell_type": "code",
   "execution_count": 115,
   "id": "e400e152",
   "metadata": {},
   "outputs": [
    {
     "name": "stdout",
     "output_type": "stream",
     "text": [
      "Basin\n"
     ]
    }
   ],
   "source": [
    "if sorted(L_1)==L_1 and sorted(L_3, reverse=True)==L_3:\n",
    "    print(\"Plateau\")\n",
    "elif sorted(L_1, reverse=True)==L_1 and sorted(L_3)==L_3:\n",
    "    print(\"Basin\")\n",
    "else:\n",
    "    print(\"Not Defined\")"
   ]
  },
  {
   "cell_type": "code",
   "execution_count": null,
   "id": "e3e76223",
   "metadata": {},
   "outputs": [],
   "source": []
  }
 ],
 "metadata": {
  "kernelspec": {
   "display_name": "Python 3 (ipykernel)",
   "language": "python",
   "name": "python3"
  },
  "language_info": {
   "codemirror_mode": {
    "name": "ipython",
    "version": 3
   },
   "file_extension": ".py",
   "mimetype": "text/x-python",
   "name": "python",
   "nbconvert_exporter": "python",
   "pygments_lexer": "ipython3",
   "version": "3.9.7"
  }
 },
 "nbformat": 4,
 "nbformat_minor": 5
}
