{
 "cells": [
  {
   "cell_type": "code",
   "execution_count": 21,
   "id": "c46d4775",
   "metadata": {},
   "outputs": [
    {
     "name": "stdout",
     "output_type": "stream",
     "text": [
      "As we are concerned about principal diagonal so #rows = #columns\n",
      "Enter number of rows: 4\n",
      "Enter the elements of the matrix:\n",
      "\n"
     ]
    }
   ],
   "source": [
    "print(\"As we are concerned about principal diagonal so #rows = #columns\")\n",
    "row=int(input(\"Enter number of rows: \"))\n",
    "col=row\n",
    "\n",
    "print(\"Enter the elements of the matrix:\\n\")"
   ]
  },
  {
   "cell_type": "code",
   "execution_count": 22,
   "id": "dc13a5ff",
   "metadata": {},
   "outputs": [
    {
     "name": "stdout",
     "output_type": "stream",
     "text": [
      "1\n",
      "5\n",
      "9\n",
      "3\n",
      "5\n",
      "7\n",
      "2\n",
      "5\n",
      "8\n",
      "4\n",
      "5\n",
      "6\n",
      "9\n",
      "1\n",
      "3\n",
      "7\n"
     ]
    }
   ],
   "source": [
    "mat=[[int(input()) for j in range(col)] for i in range (row)]"
   ]
  },
  {
   "cell_type": "code",
   "execution_count": 23,
   "id": "d4fcdb35",
   "metadata": {},
   "outputs": [],
   "source": [
    "mat_transpose = [[mat[i][j] for i in range(row)] for j in range(col)]"
   ]
  },
  {
   "cell_type": "code",
   "execution_count": 24,
   "id": "2d17e10e",
   "metadata": {},
   "outputs": [
    {
     "name": "stdout",
     "output_type": "stream",
     "text": [
      "\n",
      "The given matrix is:\n",
      "1 5 9 3 \n",
      "5 7 2 5 \n",
      "8 4 5 6 \n",
      "9 1 3 7 \n",
      "\n",
      "The transposed matrix is:\n",
      "1 5 8 9 \n",
      "5 7 4 1 \n",
      "9 2 5 3 \n",
      "3 5 6 7 \n"
     ]
    }
   ],
   "source": [
    "print(\"\\nThe given matrix is:\")\n",
    "for i in range(row):\n",
    "    for j in range(col):\n",
    "        print(mat[i][j], end=' ')\n",
    "    print()\n",
    "\n",
    "print(\"\\nThe transposed matrix is:\")\n",
    "for i in range(row):\n",
    "    for j in range(col):\n",
    "        print(mat_transpose[i][j], end=' ')\n",
    "    print()"
   ]
  }
 ],
 "metadata": {
  "kernelspec": {
   "display_name": "Python 3 (ipykernel)",
   "language": "python",
   "name": "python3"
  },
  "language_info": {
   "codemirror_mode": {
    "name": "ipython",
    "version": 3
   },
   "file_extension": ".py",
   "mimetype": "text/x-python",
   "name": "python",
   "nbconvert_exporter": "python",
   "pygments_lexer": "ipython3",
   "version": "3.9.7"
  }
 },
 "nbformat": 4,
 "nbformat_minor": 5
}
