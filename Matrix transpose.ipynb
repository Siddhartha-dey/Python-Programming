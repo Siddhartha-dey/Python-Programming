{
 "cells": [
  {
   "cell_type": "code",
   "execution_count": 34,
   "id": "c46d4775",
   "metadata": {},
   "outputs": [
    {
     "name": "stdout",
     "output_type": "stream",
     "text": [
      "As the question is concerned about the principal diagonal so #rows = #columns\n",
      "Enter number of rows: 3\n"
     ]
    }
   ],
   "source": [
    "print(\"As the question is concerned about the principal diagonal so #rows = #columns\")\n",
    "row=int(input(\"Enter number of rows: \"))\n",
    "col=row\n",
    "\n",
    "a=[[0]*col]*row"
   ]
  },
  {
   "cell_type": "code",
   "execution_count": 35,
   "id": "dc13a5ff",
   "metadata": {},
   "outputs": [
    {
     "name": "stdout",
     "output_type": "stream",
     "text": [
      "11\n",
      "22\n",
      "33\n",
      "45\n",
      "56\n",
      "78\n",
      "51\n",
      "145\n",
      "5444\n"
     ]
    }
   ],
   "source": [
    "mat=[[int(input()) for j in range(col)] for i in range (row)]"
   ]
  },
  {
   "cell_type": "code",
   "execution_count": 36,
   "id": "552022f4",
   "metadata": {},
   "outputs": [
    {
     "name": "stdout",
     "output_type": "stream",
     "text": [
      "11 22 33 \n",
      "45 56 78 \n",
      "51 145 5444 \n"
     ]
    }
   ],
   "source": [
    "for i in range(row):\n",
    "    for j in range(col):\n",
    "        print(mat[i][j], end=' ')\n",
    "    print()"
   ]
  },
  {
   "cell_type": "code",
   "execution_count": 37,
   "id": "d4fcdb35",
   "metadata": {},
   "outputs": [],
   "source": [
    "mat_transpose = [[mat[i][j] for i in range(row)] for j in range(col)]"
   ]
  },
  {
   "cell_type": "code",
   "execution_count": 38,
   "id": "2d17e10e",
   "metadata": {},
   "outputs": [
    {
     "name": "stdout",
     "output_type": "stream",
     "text": [
      "11 45 51 \n",
      "22 56 145 \n",
      "33 78 5444 \n"
     ]
    }
   ],
   "source": [
    "for i in range(row):\n",
    "    for j in range(col):\n",
    "        print(mat_transpose[i][j], end=' ')\n",
    "    print()"
   ]
  }
 ],
 "metadata": {
  "kernelspec": {
   "display_name": "Python 3 (ipykernel)",
   "language": "python",
   "name": "python3"
  },
  "language_info": {
   "codemirror_mode": {
    "name": "ipython",
    "version": 3
   },
   "file_extension": ".py",
   "mimetype": "text/x-python",
   "name": "python",
   "nbconvert_exporter": "python",
   "pygments_lexer": "ipython3",
   "version": "3.9.7"
  }
 },
 "nbformat": 4,
 "nbformat_minor": 5
}
