{
 "cells": [
  {
   "cell_type": "code",
   "execution_count": 32,
   "id": "a7fa3ffd",
   "metadata": {},
   "outputs": [
    {
     "name": "stdout",
     "output_type": "stream",
     "text": [
      "Average obtained in semester_1 : 75.2\n",
      "Average obtained in semester_2 : 63.0\n"
     ]
    }
   ],
   "source": [
    "nested_dict={'semester_1':{'DM':58, 'DFS':67, 'CLab':86, 'PSP':99, 'CO':66},\n",
    "             'semester_2':{'DBMS':72, 'DAA':56, 'FDS':70, 'IR':54, 'ML1':63}}\n",
    "\n",
    "average={}\n",
    "\n",
    "for sem_no, sem_course in nested_dict.items():\n",
    "    aggregate=0\n",
    "    for course in sem_course:\n",
    "        aggregate += sem_course[course]\n",
    "    average[sem_no] = aggregate/5\n",
    "        \n",
    "for key,value in average.items():\n",
    "    print(\"Average obtained in\",key,':',average[key])"
   ]
  },
  {
   "cell_type": "code",
   "execution_count": null,
   "id": "039cade8",
   "metadata": {},
   "outputs": [],
   "source": []
  }
 ],
 "metadata": {
  "kernelspec": {
   "display_name": "Python 3 (ipykernel)",
   "language": "python",
   "name": "python3"
  },
  "language_info": {
   "codemirror_mode": {
    "name": "ipython",
    "version": 3
   },
   "file_extension": ".py",
   "mimetype": "text/x-python",
   "name": "python",
   "nbconvert_exporter": "python",
   "pygments_lexer": "ipython3",
   "version": "3.9.7"
  }
 },
 "nbformat": 4,
 "nbformat_minor": 5
}
